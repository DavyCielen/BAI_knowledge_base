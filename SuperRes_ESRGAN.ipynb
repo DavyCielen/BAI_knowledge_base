{
  "nbformat": 4,
  "nbformat_minor": 0,
  "metadata": {
    "accelerator": "GPU",
    "colab": {
      "name": "SuperRes-ESRGAN.ipynb",
      "provenance": [],
      "include_colab_link": true
    },
    "kernelspec": {
      "display_name": "Python 3",
      "name": "python3"
    },
    "language_info": {
      "name": "python"
    }
  },
  "cells": [
    {
      "cell_type": "markdown",
      "metadata": {
        "id": "view-in-github",
        "colab_type": "text"
      },
      "source": [
        "<a href=\"https://colab.research.google.com/github/DavyCielen/BAI_knowledge_base/blob/main/SuperRes_ESRGAN.ipynb\" target=\"_parent\"><img src=\"https://colab.research.google.com/assets/colab-badge.svg\" alt=\"Open In Colab\"/></a>"
      ]
    },
    {
      "cell_type": "markdown",
      "metadata": {
        "id": "IaNaQPUgfEIK"
      },
      "source": [
        "#<font face=\"Trebuchet MS\" size=\"6\">Neural Image Super-Resolution <font color=\"#999\" size=\"4\">&nbsp;&nbsp;&nbsp;|&nbsp;&nbsp;&nbsp;</font><font color=\"#999\" size=\"4\">ESRGAN</font><font color=\"#999\" size=\"4\">&nbsp;&nbsp;&nbsp;|&nbsp;&nbsp;&nbsp;</font><a href=\"https://github.com/olaviinha/NeuralImageSuperResolution\" target=\"_blank\"><font color=\"#999\" size=\"4\">Github</font></a>\n",
        "\n",
        "Colab for [JoeyBallentine's fork](https://github.com/JoeyBallentine/ESRGAN) of [BlueAmulet's fork](https://github.com/BlueAmulet/ESRGAN) of [ESRGAN](https://github.com/xinntao/ESRGAN), an implementation of [Enhanced Super-Resolution Generative Adversarial Networks](https://arxiv.org/abs/1809.00219) by Xintao Wang et al. This notebook includes a few additional features.\n",
        "\n",
        "- Enter all file/directory paths relative to your Google Drive root.\n",
        "- `image_or_directory_to_upscale` may be a file path or a directory path. If a directory path is given, all images in the given directory will be processed.\n",
        "- Leave `output_dir` blank to save the processed superres image(s) in the same (`image_or_directory_to_upscale`) directory."
      ]
    },
    {
      "cell_type": "code",
      "source": [
        "!apt install -y gmic"
      ],
      "metadata": {
        "id": "cM55FxyiU3hC"
      },
      "execution_count": null,
      "outputs": []
    },
    {
      "cell_type": "code",
      "source": [
        "!mkdir -p /content/Colab-ESRGAN/models/\n",
        "!wget --no-check-certificate \"https://huggingface.co/databuzzword/esrgan/resolve/main/RRDB_ESRGAN_x4.pth\" -O /content/___Colab-ESRGAN/models/1x_DeJpeg_Fatality_PlusULTRA.pth"
      ],
      "metadata": {
        "colab": {
          "base_uri": "https://localhost:8080/"
        },
        "id": "-KI2mhytY42v",
        "outputId": "69a45840-0f92-43c1-a268-4ef533ac79b9"
      },
      "execution_count": 27,
      "outputs": [
        {
          "output_type": "stream",
          "name": "stdout",
          "text": [
            "--2025-04-03 06:48:48--  https://huggingface.co/databuzzword/esrgan/resolve/main/RRDB_ESRGAN_x4.pth\n",
            "Resolving huggingface.co (huggingface.co)... 13.35.202.34, 13.35.202.121, 13.35.202.40, ...\n",
            "Connecting to huggingface.co (huggingface.co)|13.35.202.34|:443... connected.\n",
            "HTTP request sent, awaiting response... 302 Found\n",
            "Location: https://cdn-lfs.hf.co/databuzzword/esrgan/65fece06e1ccb48853242aa972bdf00ad07a7dd8938d2dcbdf4221b59f6372ce?response-content-disposition=inline%3B+filename*%3DUTF-8%27%27RRDB_ESRGAN_x4.pth%3B+filename%3D%22RRDB_ESRGAN_x4.pth%22%3B&Expires=1743666528&Policy=eyJTdGF0ZW1lbnQiOlt7IkNvbmRpdGlvbiI6eyJEYXRlTGVzc1RoYW4iOnsiQVdTOkVwb2NoVGltZSI6MTc0MzY2NjUyOH19LCJSZXNvdXJjZSI6Imh0dHBzOi8vY2RuLWxmcy5oZi5jby9kYXRhYnV6endvcmQvZXNyZ2FuLzY1ZmVjZTA2ZTFjY2I0ODg1MzI0MmFhOTcyYmRmMDBhZDA3YTdkZDg5MzhkMmRjYmRmNDIyMWI1OWY2MzcyY2U%7EcmVzcG9uc2UtY29udGVudC1kaXNwb3NpdGlvbj0qIn1dfQ__&Signature=tDjNaCaQBTTIdkGdGIMvDLJHKfiw7eRLP5UNZNBR1c4WRypgQ-jSzz3c%7EB5svCl%7Ey07hXk15KbMSXV5E1hf6Zd16aEpJ6Ja2CYR2qZDCePJF4NkR2er-cunECfbNfSfk6e2dwL0e2rlGSDdi9a6uJ4BCZ9ZefJ2uhnpVK393tTUm%7EWTxGNwfPm5yi%7EfnBdBadl7Lr3kxYaDZxvmz-pN8Zl5%7ElBC7HnMx973mgSWYUPnoOiZ8buf5-v9hjCcop9mV3thF0vwnC3e7wB%7EbstjDIWuTHbFvvd0rHYcaGVsEw1AgePfg1OmlEtl04F1MctcroyA1H2retj9OGa2gn3wOHQ__&Key-Pair-Id=K3RPWS32NSSJCE [following]\n",
            "--2025-04-03 06:48:48--  https://cdn-lfs.hf.co/databuzzword/esrgan/65fece06e1ccb48853242aa972bdf00ad07a7dd8938d2dcbdf4221b59f6372ce?response-content-disposition=inline%3B+filename*%3DUTF-8%27%27RRDB_ESRGAN_x4.pth%3B+filename%3D%22RRDB_ESRGAN_x4.pth%22%3B&Expires=1743666528&Policy=eyJTdGF0ZW1lbnQiOlt7IkNvbmRpdGlvbiI6eyJEYXRlTGVzc1RoYW4iOnsiQVdTOkVwb2NoVGltZSI6MTc0MzY2NjUyOH19LCJSZXNvdXJjZSI6Imh0dHBzOi8vY2RuLWxmcy5oZi5jby9kYXRhYnV6endvcmQvZXNyZ2FuLzY1ZmVjZTA2ZTFjY2I0ODg1MzI0MmFhOTcyYmRmMDBhZDA3YTdkZDg5MzhkMmRjYmRmNDIyMWI1OWY2MzcyY2U%7EcmVzcG9uc2UtY29udGVudC1kaXNwb3NpdGlvbj0qIn1dfQ__&Signature=tDjNaCaQBTTIdkGdGIMvDLJHKfiw7eRLP5UNZNBR1c4WRypgQ-jSzz3c%7EB5svCl%7Ey07hXk15KbMSXV5E1hf6Zd16aEpJ6Ja2CYR2qZDCePJF4NkR2er-cunECfbNfSfk6e2dwL0e2rlGSDdi9a6uJ4BCZ9ZefJ2uhnpVK393tTUm%7EWTxGNwfPm5yi%7EfnBdBadl7Lr3kxYaDZxvmz-pN8Zl5%7ElBC7HnMx973mgSWYUPnoOiZ8buf5-v9hjCcop9mV3thF0vwnC3e7wB%7EbstjDIWuTHbFvvd0rHYcaGVsEw1AgePfg1OmlEtl04F1MctcroyA1H2retj9OGa2gn3wOHQ__&Key-Pair-Id=K3RPWS32NSSJCE\n",
            "Resolving cdn-lfs.hf.co (cdn-lfs.hf.co)... 3.170.229.28, 3.170.229.125, 3.170.229.105, ...\n",
            "Connecting to cdn-lfs.hf.co (cdn-lfs.hf.co)|3.170.229.28|:443... connected.\n",
            "HTTP request sent, awaiting response... 200 OK\n",
            "Length: 66929193 (64M) [application/octet-stream]\n",
            "Saving to: ‘/content/___Colab-ESRGAN/models/1x_DeJpeg_Fatality_PlusULTRA.pth’\n",
            "\n",
            "/content/___Colab-E 100%[===================>]  63.83M   269MB/s    in 0.2s    \n",
            "\n",
            "2025-04-03 06:48:48 (269 MB/s) - ‘/content/___Colab-ESRGAN/models/1x_DeJpeg_Fatality_PlusULTRA.pth’ saved [66929193/66929193]\n",
            "\n"
          ]
        }
      ]
    },
    {
      "cell_type": "code",
      "source": [
        "pip install import_ipynb gmic inhagcutils"
      ],
      "metadata": {
        "colab": {
          "base_uri": "https://localhost:8080/"
        },
        "id": "V_6e4JlzSNcY",
        "outputId": "5a7b9bbf-9908-4bfa-f54b-001898de9fae"
      },
      "execution_count": 13,
      "outputs": [
        {
          "output_type": "stream",
          "name": "stdout",
          "text": [
            "Requirement already satisfied: import_ipynb in /usr/local/lib/python3.11/dist-packages (0.2)\n",
            "Collecting gmic\n",
            "  Using cached gmic-0.0.2.tar.gz (1.3 MB)\n",
            "  Preparing metadata (setup.py) ... \u001b[?25l\u001b[?25hdone\n",
            "Requirement already satisfied: IPython in /usr/local/lib/python3.11/dist-packages (from import_ipynb) (7.34.0)\n",
            "Requirement already satisfied: nbformat in /usr/local/lib/python3.11/dist-packages (from import_ipynb) (5.10.4)\n",
            "Requirement already satisfied: setuptools>=18.5 in /usr/local/lib/python3.11/dist-packages (from IPython->import_ipynb) (75.2.0)\n",
            "Requirement already satisfied: jedi>=0.16 in /usr/local/lib/python3.11/dist-packages (from IPython->import_ipynb) (0.19.2)\n",
            "Requirement already satisfied: decorator in /usr/local/lib/python3.11/dist-packages (from IPython->import_ipynb) (4.4.2)\n",
            "Requirement already satisfied: pickleshare in /usr/local/lib/python3.11/dist-packages (from IPython->import_ipynb) (0.7.5)\n",
            "Requirement already satisfied: traitlets>=4.2 in /usr/local/lib/python3.11/dist-packages (from IPython->import_ipynb) (5.7.1)\n",
            "Requirement already satisfied: prompt-toolkit!=3.0.0,!=3.0.1,<3.1.0,>=2.0.0 in /usr/local/lib/python3.11/dist-packages (from IPython->import_ipynb) (3.0.50)\n",
            "Requirement already satisfied: pygments in /usr/local/lib/python3.11/dist-packages (from IPython->import_ipynb) (2.18.0)\n",
            "Requirement already satisfied: backcall in /usr/local/lib/python3.11/dist-packages (from IPython->import_ipynb) (0.2.0)\n",
            "Requirement already satisfied: matplotlib-inline in /usr/local/lib/python3.11/dist-packages (from IPython->import_ipynb) (0.1.7)\n",
            "Requirement already satisfied: pexpect>4.3 in /usr/local/lib/python3.11/dist-packages (from IPython->import_ipynb) (4.9.0)\n",
            "Requirement already satisfied: fastjsonschema>=2.15 in /usr/local/lib/python3.11/dist-packages (from nbformat->import_ipynb) (2.21.1)\n",
            "Requirement already satisfied: jsonschema>=2.6 in /usr/local/lib/python3.11/dist-packages (from nbformat->import_ipynb) (4.23.0)\n",
            "Requirement already satisfied: jupyter-core!=5.0.*,>=4.12 in /usr/local/lib/python3.11/dist-packages (from nbformat->import_ipynb) (5.7.2)\n",
            "Requirement already satisfied: parso<0.9.0,>=0.8.4 in /usr/local/lib/python3.11/dist-packages (from jedi>=0.16->IPython->import_ipynb) (0.8.4)\n",
            "Requirement already satisfied: attrs>=22.2.0 in /usr/local/lib/python3.11/dist-packages (from jsonschema>=2.6->nbformat->import_ipynb) (25.3.0)\n",
            "Requirement already satisfied: jsonschema-specifications>=2023.03.6 in /usr/local/lib/python3.11/dist-packages (from jsonschema>=2.6->nbformat->import_ipynb) (2024.10.1)\n",
            "Requirement already satisfied: referencing>=0.28.4 in /usr/local/lib/python3.11/dist-packages (from jsonschema>=2.6->nbformat->import_ipynb) (0.36.2)\n",
            "Requirement already satisfied: rpds-py>=0.7.1 in /usr/local/lib/python3.11/dist-packages (from jsonschema>=2.6->nbformat->import_ipynb) (0.24.0)\n",
            "Requirement already satisfied: platformdirs>=2.5 in /usr/local/lib/python3.11/dist-packages (from jupyter-core!=5.0.*,>=4.12->nbformat->import_ipynb) (4.3.7)\n",
            "Requirement already satisfied: ptyprocess>=0.5 in /usr/local/lib/python3.11/dist-packages (from pexpect>4.3->IPython->import_ipynb) (0.7.0)\n",
            "Requirement already satisfied: wcwidth in /usr/local/lib/python3.11/dist-packages (from prompt-toolkit!=3.0.0,!=3.0.1,<3.1.0,>=2.0.0->IPython->import_ipynb) (0.2.13)\n",
            "Requirement already satisfied: typing-extensions>=4.4.0 in /usr/local/lib/python3.11/dist-packages (from referencing>=0.28.4->jsonschema>=2.6->nbformat->import_ipynb) (4.13.0)\n",
            "Building wheels for collected packages: gmic\n",
            "  \u001b[1;31merror\u001b[0m: \u001b[1msubprocess-exited-with-error\u001b[0m\n",
            "  \n",
            "  \u001b[31m×\u001b[0m \u001b[32mpython setup.py bdist_wheel\u001b[0m did not run successfully.\n",
            "  \u001b[31m│\u001b[0m exit code: \u001b[1;36m1\u001b[0m\n",
            "  \u001b[31m╰─>\u001b[0m See above for output.\n",
            "  \n",
            "  \u001b[1;35mnote\u001b[0m: This error originates from a subprocess, and is likely not a problem with pip.\n",
            "  Building wheel for gmic (setup.py) ... \u001b[?25lerror\n",
            "\u001b[31m  ERROR: Failed building wheel for gmic\u001b[0m\u001b[31m\n",
            "\u001b[0m\u001b[?25h  Running setup.py clean for gmic\n",
            "Failed to build gmic\n",
            "\u001b[31mERROR: ERROR: Failed to build installable wheels for some pyproject.toml based projects (gmic)\u001b[0m\u001b[31m\n",
            "\u001b[0m"
          ]
        }
      ]
    },
    {
      "cell_type": "code",
      "metadata": {
        "id": "D6CecUbiW8eO",
        "colab": {
          "base_uri": "https://localhost:8080/"
        },
        "outputId": "e71f11a6-140b-4989-c1b8-b2c66512193e"
      },
      "source": [
        "#@title #Setup\n",
        "#@markdown This cell needs to be run only once. It will mount your Google Drive and setup prerequisites.\n",
        "\n",
        "import os\n",
        "force_setup = False\n",
        "\n",
        "pip_packages = 'typer rich gmic'\n",
        "\n",
        "# inhagcutils\n",
        "if not os.path.isfile('/content/inhagcutils.ipynb') and force_setup == False:\n",
        "  %cd /content/\n",
        "  !pip -q install import-ipynb {pip_packages}\n",
        "  !curl -s -O https://raw.githubusercontent.com/olaviinha/inhagcutils/master/inhagcutils.ipynb\n",
        "import import_ipynb\n",
        "from inhagcutils import *\n",
        "\n",
        "# Mount Drive\n",
        "if not os.path.isdir('/content/drive') and force_setup == False:\n",
        "  from google.colab import drive\n",
        "  drive.mount('/content/drive')\n",
        "\n",
        "# Drive symlink\n",
        "if not os.path.isdir('/content/mydrive') and force_setup == False:\n",
        "  os.symlink('/content/drive/My Drive', '/content/mydrive')\n",
        "  drive_root_set = True\n",
        "drive_root = '/content/mydrive/'\n",
        "\n",
        "%cd /content/\n",
        "!git clone https://github.com/olaviinha/ESRGAN.git Colab-ESRGAN\n",
        "!git clone https://github.com/olaviinha/BlurDetection2.git\n",
        "%cd \"/content/Colab-ESRGAN\"\n",
        "\n",
        "dir_tmp = '/content/tmp/'\n",
        "dir_mask = '/content/tmp/mask/'\n",
        "dir_input = '/content/Colab-ESRGAN/input/'\n",
        "dir_dejpeg = '/content/Colab-ESRGAN/dejpeg/'\n",
        "dir_upscaled = '/content/Colab-ESRGAN/upscaled/'\n",
        "dir_output = '/content/Colab-ESRGAN/output/'\n",
        "dir_models = '/content/Colab-ESRGAN/models/'\n",
        "for x in [dir_tmp, dir_mask, dir_input, dir_dejpeg, dir_upscaled, dir_output, dir_models,'/content/dejpeg/']:\n",
        "  if not os.path.isdir(x):\n",
        "    os.makedirs(x,exist_ok=True)\n"
      ],
      "execution_count": 17,
      "outputs": [
        {
          "output_type": "stream",
          "name": "stdout",
          "text": [
            "/content\n",
            "fatal: destination path 'Colab-ESRGAN' already exists and is not an empty directory.\n",
            "fatal: destination path 'BlurDetection2' already exists and is not an empty directory.\n",
            "/content/Colab-ESRGAN\n"
          ]
        }
      ]
    },
    {
      "cell_type": "code",
      "metadata": {
        "id": "tDMw6f0eXOmt",
        "colab": {
          "base_uri": "https://localhost:8080/",
          "height": 873
        },
        "outputId": "660a477f-ecd9-4b3b-8599-1fc58f6e1bf1"
      },
      "source": [
        "# ✅ SETUP: Install necessary system tools\n",
        "!apt-get update\n",
        "!apt-get install -y gmic imagemagick\n",
        "\n",
        "# ✅ IMPORTS AND GLOBALS\n",
        "import os\n",
        "import sys\n",
        "from glob import glob\n",
        "from PIL import Image\n",
        "import cv2\n",
        "\n",
        "# Your helper functions (op, c, fix_path, clean_dirs, etc.) should be defined somewhere before running this block\n",
        "# We'll assume they're available in your Colab notebook.\n",
        "\n",
        "# ✅ PARAMETERS (replace with your own or use widgets)\n",
        "image_or_directory_to_upscale = \"pics_frans/image.jpeg\"\n",
        "output_dir = \"\"\n",
        "model = \"ESRGAN_and_FatalPixels\"\n",
        "interpolation = 53\n",
        "sharpen = True\n",
        "dejpeg = True\n",
        "models_in_filename = False\n",
        "local_models_dir = \"\"\n",
        "\n",
        "# ✅ FILE PATHS\n",
        "drive_root = \"/content/drive/MyDrive/\"\n",
        "dir_tmp = \"/content/tmp/\"\n",
        "dir_input = \"/content/input/\"\n",
        "dir_mask = \"/content/mask/\"\n",
        "dir_dejpeg = \"/content/dejpeg/\"\n",
        "dir_upscaled = \"/content/upscaled/\"\n",
        "dir_output = \"/content/output/\"\n",
        "dir_models = \"/content/Colab-ESRGAN/models/\"\n",
        "\n",
        "# ✅ INITIAL SETUP\n",
        "downloaded_models = []\n",
        "def dlfail():\n",
        "  print(\"Download failed. Exiting.\")\n",
        "  sys.exit()\n",
        "\n",
        "# ✅ INSTALL MODELS (skip if already downloaded)\n",
        "os.makedirs(dir_models, exist_ok=True)\n",
        "\n",
        "# Example for ESRGAN\n",
        "if 'ESRGAN' in model and not os.path.exists(f\"{dir_models}/RRDB_ESRGAN_x4.pth\"):\n",
        "  !wget -O {dir_models}/RRDB_ESRGAN_x4.pth https://docs.google.com/uc?export=download&id=1MJFgqXJrMkPdKtiuy7C6xfsU1QIbXEb-\n",
        "  downloaded_models.append('ESRGAN')\n",
        "\n",
        "# ✅ GET INPUT IMAGES\n",
        "image_or_directory_to_upscale = os.path.join(drive_root, image_or_directory_to_upscale)\n",
        "if os.path.isfile(image_or_directory_to_upscale):\n",
        "  input_images = [image_or_directory_to_upscale]\n",
        "elif os.path.isdir(image_or_directory_to_upscale):\n",
        "  input_images = sorted(glob(image_or_directory_to_upscale + '/*.jpg'))\n",
        "else:\n",
        "  print(\"Input path not found\")\n",
        "  sys.exit()\n",
        "\n",
        "if not output_dir:\n",
        "  output_dir = os.path.dirname(input_images[0])\n",
        "os.makedirs(output_dir, exist_ok=True)\n",
        "\n",
        "# ✅ PROCESS IMAGES\n",
        "for input_image in input_images:\n",
        "  print(f\"Processing: {input_image}\")\n",
        "  os.makedirs(dir_input, exist_ok=True)\n",
        "  os.makedirs(dir_output, exist_ok=True)\n",
        "\n",
        "  state = input_image\n",
        "\n",
        "  if dejpeg:\n",
        "    print(\"Running DeJPEG...\")\n",
        "    !cp \"{state}\" \"{dir_input}\"\n",
        "    !python upscale.py 1x_DeJpeg_Fatality_PlusULTRA.pth --input \"{dir_input}\" --output \"{dir_dejpeg}\"\n",
        "    state = os.path.join(dir_dejpeg, os.listdir(dir_dejpeg)[0])\n",
        "\n",
        "  if sharpen:\n",
        "    print(\"Sharpening...\")\n",
        "    tmp_file = os.path.join(dir_tmp, os.path.basename(input_image) + '_sharpened.png')\n",
        "    !gmic \"{state}\" -fx_mighty_details 35,1,2,1,11,0 -output \"{tmp_file}\"\n",
        "    state = tmp_file\n",
        "\n",
        "  print(\"Upscaling with model...\")\n",
        "  model_file = \"RRDB_ESRGAN_x4.pth\"  # Simplified for this example\n",
        "  !cp \"{state}\" \"{dir_input}\"\n",
        "  !python upscale.py \"{model_file}\" --input \"{dir_input}\" --output \"{dir_upscaled}\"\n",
        "  final_image = os.path.join(dir_upscaled, os.listdir(dir_upscaled)[0])\n",
        "\n",
        "  # Save final image to output dir\n",
        "  final_file = os.path.join(output_dir, os.path.basename(input_image).replace('.jpg', '_upscaled.png'))\n",
        "  !cp \"{final_image}\" \"{final_file}\"\n",
        "\n",
        "  print(f\"Saved: {final_file}\\n\")\n",
        "\n",
        "print(\"\\nFIN.\")"
      ],
      "execution_count": 28,
      "outputs": [
        {
          "output_type": "stream",
          "name": "stdout",
          "text": [
            "\r0% [Working]\r            \rHit:1 https://cloud.r-project.org/bin/linux/ubuntu jammy-cran40/ InRelease\n",
            "Hit:2 https://developer.download.nvidia.com/compute/cuda/repos/ubuntu2204/x86_64  InRelease\n",
            "Hit:3 http://archive.ubuntu.com/ubuntu jammy InRelease\n",
            "Hit:4 http://archive.ubuntu.com/ubuntu jammy-updates InRelease\n",
            "Hit:5 http://security.ubuntu.com/ubuntu jammy-security InRelease\n",
            "Hit:6 http://archive.ubuntu.com/ubuntu jammy-backports InRelease\n",
            "Hit:7 https://r2u.stat.illinois.edu/ubuntu jammy InRelease\n",
            "Hit:8 https://ppa.launchpadcontent.net/deadsnakes/ppa/ubuntu jammy InRelease\n",
            "Hit:9 https://ppa.launchpadcontent.net/graphics-drivers/ppa/ubuntu jammy InRelease\n",
            "Hit:10 https://ppa.launchpadcontent.net/ubuntugis/ppa/ubuntu jammy InRelease\n",
            "Reading package lists... Done\n",
            "W: Skipping acquire of configured file 'main/source/Sources' as repository 'https://r2u.stat.illinois.edu/ubuntu jammy InRelease' does not seem to provide it (sources.list entry misspelt?)\n",
            "Reading package lists... Done\n",
            "Building dependency tree... Done\n",
            "Reading state information... Done\n",
            "gmic is already the newest version (2.9.4-4build1).\n",
            "imagemagick is already the newest version (8:6.9.11.60+dfsg-1.3ubuntu0.22.04.5).\n",
            "0 upgraded, 0 newly installed, 0 to remove and 33 not upgraded.\n",
            "Processing: /content/drive/MyDrive/pics_frans/image.jpeg\n",
            "Running DeJPEG...\n",
            "Model: \u001b[32m\"models/1x_DeJpeg_Fatality_PlusULTRA.pth\"\u001b[0m\n",
            "\u001b[2KUpscaling \u001b[90m━━━━━━━━━━━━━━━━━━━━━━━━━━━━━━━━━━━━━━━━\u001b[0m \u001b[35m  0%\u001b[0m \u001b[36m-:--:--\u001b[0m[ WARN:0@8.444] global loadsave.cpp:1329 imencode Unsupported depth image for selected encoder is fallbacked to CV_8U.\n",
            "\u001b[2KUpscaling \u001b[90m━━━━━━━━━━━━━━━━━━━━━━━━━━━━━━━━━━━━━━━━\u001b[0m \u001b[35m100%\u001b[0m \u001b[36m0:00:00\u001b[0m\n",
            "\u001b[?25hSharpening...\n",
            "[gmic]-0./ Start G'MIC interpreter.\n",
            "[gmic]-0./ Input file '/content/dejpeg/image.png' at position 0 (1 image 2208x3268x1x3).\n",
            "[gmic]-1./ Output image [0] as png file '/content/tmp/image.jpeg_sharpened.png' (1 image 2208x3268x1x3).\n",
            "[gmic]-1./ End G'MIC interpreter.\n",
            "Upscaling with model...\n",
            "Model: \u001b[32m\"models/RRDB_ESRGAN_x4.pth\"\u001b[0m\n",
            "\u001b[2KUpscaling \u001b[90m━━━━━━━━━━━━━━━━━━━━━━━━━━━━━━━━━━━━━━━━\u001b[0m \u001b[35m  0%\u001b[0m \u001b[36m-:--:--\u001b[0m\n",
            "\u001b[?25h\n",
            "\u001b[31mAborted.\u001b[0m\n"
          ]
        },
        {
          "output_type": "error",
          "ename": "IndexError",
          "evalue": "list index out of range",
          "traceback": [
            "\u001b[0;31m---------------------------------------------------------------------------\u001b[0m",
            "\u001b[0;31mIndexError\u001b[0m                                Traceback (most recent call last)",
            "\u001b[0;32m<ipython-input-28-009911a1eef4>\u001b[0m in \u001b[0;36m<cell line: 0>\u001b[0;34m()\u001b[0m\n\u001b[1;32m     85\u001b[0m   \u001b[0mget_ipython\u001b[0m\u001b[0;34m(\u001b[0m\u001b[0;34m)\u001b[0m\u001b[0;34m.\u001b[0m\u001b[0msystem\u001b[0m\u001b[0;34m(\u001b[0m\u001b[0;34m'cp \"{state}\" \"{dir_input}\"'\u001b[0m\u001b[0;34m)\u001b[0m\u001b[0;34m\u001b[0m\u001b[0;34m\u001b[0m\u001b[0m\n\u001b[1;32m     86\u001b[0m   \u001b[0mget_ipython\u001b[0m\u001b[0;34m(\u001b[0m\u001b[0;34m)\u001b[0m\u001b[0;34m.\u001b[0m\u001b[0msystem\u001b[0m\u001b[0;34m(\u001b[0m\u001b[0;34m'python upscale.py \"{model_file}\" --input \"{dir_input}\" --output \"{dir_upscaled}\"'\u001b[0m\u001b[0;34m)\u001b[0m\u001b[0;34m\u001b[0m\u001b[0;34m\u001b[0m\u001b[0m\n\u001b[0;32m---> 87\u001b[0;31m   \u001b[0mfinal_image\u001b[0m \u001b[0;34m=\u001b[0m \u001b[0mos\u001b[0m\u001b[0;34m.\u001b[0m\u001b[0mpath\u001b[0m\u001b[0;34m.\u001b[0m\u001b[0mjoin\u001b[0m\u001b[0;34m(\u001b[0m\u001b[0mdir_upscaled\u001b[0m\u001b[0;34m,\u001b[0m \u001b[0mos\u001b[0m\u001b[0;34m.\u001b[0m\u001b[0mlistdir\u001b[0m\u001b[0;34m(\u001b[0m\u001b[0mdir_upscaled\u001b[0m\u001b[0;34m)\u001b[0m\u001b[0;34m[\u001b[0m\u001b[0;36m0\u001b[0m\u001b[0;34m]\u001b[0m\u001b[0;34m)\u001b[0m\u001b[0;34m\u001b[0m\u001b[0;34m\u001b[0m\u001b[0m\n\u001b[0m\u001b[1;32m     88\u001b[0m \u001b[0;34m\u001b[0m\u001b[0m\n\u001b[1;32m     89\u001b[0m   \u001b[0;31m# Save final image to output dir\u001b[0m\u001b[0;34m\u001b[0m\u001b[0;34m\u001b[0m\u001b[0m\n",
            "\u001b[0;31mIndexError\u001b[0m: list index out of range"
          ]
        }
      ]
    },
    {
      "cell_type": "code",
      "source": [],
      "metadata": {
        "id": "uXBE-sIcSKs3"
      },
      "execution_count": null,
      "outputs": []
    }
  ]
}